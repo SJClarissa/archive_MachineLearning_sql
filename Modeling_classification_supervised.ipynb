{
 "cells": [
  {
   "cell_type": "markdown",
   "metadata": {},
   "source": [
    "## Supervised Classification\n",
    "modeling\n",
    "---\n",
    "- Logistic Regression\n",
    "- KNeighborsClassifier\n",
    "- Decision Tree\n",
    "- Random Forest\n",
    "- SVC\n",
    "---\n",
    "- Preprocessing: Standard scaler\n",
    "- Pipeline: Standard scaler - modeling/ Pipeline - GridSearch\n",
    "- Database: Postgre SQL\n",
    "- Metrics: Confusion matrix"
   ]
  },
  {
   "cell_type": "code",
   "execution_count": 1,
   "metadata": {
    "ExecuteTime": {
     "end_time": "2020-06-10T21:28:46.619832Z",
     "start_time": "2020-06-10T21:28:44.532989Z"
    }
   },
   "outputs": [],
   "source": [
    "import pandas as pd\n",
    "import numpy as np\n",
    "import seaborn as sns\n",
    "from matplotlib import pyplot as plt\n",
    "import psycopg2 as pg2\n",
    "\n",
    "# from sklearn.preprocessing import OneHotEncoder\n",
    "# from sklearn.compose import ColumnTransformer\n",
    "from sklearn.model_selection import train_test_split, GridSearchCV\n",
    "from sklearn.pipeline import Pipeline\n",
    "from sklearn.preprocessing import StandardScaler\n",
    "\n",
    "from sklearn.linear_model import LogisticRegression\n",
    "from sklearn.neighbors import KNeighborsClassifier\n",
    "from sklearn.tree import DecisionTreeClassifier\n",
    "from sklearn.ensemble import RandomForestClassifier\n",
    "from sklearn.svm import SVC\n",
    "# from sklearn.naive_bayes import MultinomialNB, GaussianNB\n",
    "\n",
    "from sklearn.metrics import mean_squared_error, confusion_matrix"
   ]
  },
  {
   "cell_type": "markdown",
   "metadata": {},
   "source": [
    "### Fetch data from database"
   ]
  },
  {
   "cell_type": "code",
   "execution_count": 2,
   "metadata": {
    "ExecuteTime": {
     "end_time": "2020-06-10T21:28:46.718868Z",
     "start_time": "2020-06-10T21:28:46.621934Z"
    }
   },
   "outputs": [],
   "source": [
    "def get_cur():\n",
    "    db_pwd = 'password'\n",
    "    conn = pg2.connect(database='AQI_2019', user='postgres', password=db_pwd)\n",
    "    return conn.cursor()\n",
    "\n",
    "def close():\n",
    "    cur.close()\n",
    "    conn.close()\n",
    "\n",
    "cur = get_cur()"
   ]
  },
  {
   "cell_type": "code",
   "execution_count": 3,
   "metadata": {
    "ExecuteTime": {
     "end_time": "2020-06-10T21:28:48.320530Z",
     "start_time": "2020-06-10T21:28:46.722168Z"
    }
   },
   "outputs": [],
   "source": [
    "# fetch data\n",
    "cur.execute(\"\"\"SELECT * FROM aqi\n",
    "            \"\"\")\n",
    "df = pd.DataFrame(cur.fetchall(), columns=['date', 'type', 'state', 'aqi', 'pt_id'])\n",
    "\n",
    "cur.execute(\"\"\"SELECT measuring_pt.lat, measuring_pt.long, aqi.state FROM measuring_pt\n",
    "            LEFT JOIN aqi ON measuring_pt.pt_id = aqi.pt_id\n",
    "            GROUP BY measuring_pt.lat, measuring_pt.long, aqi.state\n",
    "            \"\"\")\n",
    "df_dist = pd.DataFrame(cur.fetchall(), columns=['lat', 'long', 'state'])"
   ]
  },
  {
   "cell_type": "code",
   "execution_count": 4,
   "metadata": {
    "ExecuteTime": {
     "end_time": "2020-06-10T21:28:48.339370Z",
     "start_time": "2020-06-10T21:28:48.322555Z"
    }
   },
   "outputs": [
    {
     "data": {
      "text/html": [
       "<div>\n",
       "<style scoped>\n",
       "    .dataframe tbody tr th:only-of-type {\n",
       "        vertical-align: middle;\n",
       "    }\n",
       "\n",
       "    .dataframe tbody tr th {\n",
       "        vertical-align: top;\n",
       "    }\n",
       "\n",
       "    .dataframe thead th {\n",
       "        text-align: right;\n",
       "    }\n",
       "</style>\n",
       "<table border=\"1\" class=\"dataframe\">\n",
       "  <thead>\n",
       "    <tr style=\"text-align: right;\">\n",
       "      <th></th>\n",
       "      <th>date</th>\n",
       "      <th>type</th>\n",
       "      <th>state</th>\n",
       "      <th>aqi</th>\n",
       "      <th>pt_id</th>\n",
       "    </tr>\n",
       "  </thead>\n",
       "  <tbody>\n",
       "    <tr>\n",
       "      <th>0</th>\n",
       "      <td>2019-01-01</td>\n",
       "      <td>PM25</td>\n",
       "      <td>Hawaii</td>\n",
       "      <td>24.0</td>\n",
       "      <td>0</td>\n",
       "    </tr>\n",
       "    <tr>\n",
       "      <th>1</th>\n",
       "      <td>2019-01-02</td>\n",
       "      <td>PM25</td>\n",
       "      <td>Hawaii</td>\n",
       "      <td>20.0</td>\n",
       "      <td>0</td>\n",
       "    </tr>\n",
       "    <tr>\n",
       "      <th>2</th>\n",
       "      <td>2019-01-03</td>\n",
       "      <td>PM25</td>\n",
       "      <td>Hawaii</td>\n",
       "      <td>21.0</td>\n",
       "      <td>0</td>\n",
       "    </tr>\n",
       "  </tbody>\n",
       "</table>\n",
       "</div>"
      ],
      "text/plain": [
       "         date  type   state   aqi  pt_id\n",
       "0  2019-01-01  PM25  Hawaii  24.0      0\n",
       "1  2019-01-02  PM25  Hawaii  20.0      0\n",
       "2  2019-01-03  PM25  Hawaii  21.0      0"
      ]
     },
     "execution_count": 4,
     "metadata": {},
     "output_type": "execute_result"
    }
   ],
   "source": [
    "df.head(3)"
   ]
  },
  {
   "cell_type": "code",
   "execution_count": 5,
   "metadata": {
    "ExecuteTime": {
     "end_time": "2020-06-10T21:28:48.348344Z",
     "start_time": "2020-06-10T21:28:48.342361Z"
    }
   },
   "outputs": [
    {
     "data": {
      "text/plain": [
       "(1482, 3)"
      ]
     },
     "execution_count": 5,
     "metadata": {},
     "output_type": "execute_result"
    }
   ],
   "source": [
    "df_dist.shape"
   ]
  },
  {
   "cell_type": "code",
   "execution_count": 6,
   "metadata": {
    "ExecuteTime": {
     "end_time": "2020-06-10T21:28:48.362306Z",
     "start_time": "2020-06-10T21:28:48.350338Z"
    }
   },
   "outputs": [
    {
     "data": {
      "text/html": [
       "<div>\n",
       "<style scoped>\n",
       "    .dataframe tbody tr th:only-of-type {\n",
       "        vertical-align: middle;\n",
       "    }\n",
       "\n",
       "    .dataframe tbody tr th {\n",
       "        vertical-align: top;\n",
       "    }\n",
       "\n",
       "    .dataframe thead th {\n",
       "        text-align: right;\n",
       "    }\n",
       "</style>\n",
       "<table border=\"1\" class=\"dataframe\">\n",
       "  <thead>\n",
       "    <tr style=\"text-align: right;\">\n",
       "      <th></th>\n",
       "      <th>lat</th>\n",
       "      <th>long</th>\n",
       "      <th>state</th>\n",
       "    </tr>\n",
       "  </thead>\n",
       "  <tbody>\n",
       "    <tr>\n",
       "      <th>0</th>\n",
       "      <td>19.117561</td>\n",
       "      <td>-155.778136</td>\n",
       "      <td>Hawaii</td>\n",
       "    </tr>\n",
       "    <tr>\n",
       "      <th>1</th>\n",
       "      <td>19.203900</td>\n",
       "      <td>-155.480183</td>\n",
       "      <td>Hawaii</td>\n",
       "    </tr>\n",
       "  </tbody>\n",
       "</table>\n",
       "</div>"
      ],
      "text/plain": [
       "         lat        long   state\n",
       "0  19.117561 -155.778136  Hawaii\n",
       "1  19.203900 -155.480183  Hawaii"
      ]
     },
     "execution_count": 6,
     "metadata": {},
     "output_type": "execute_result"
    }
   ],
   "source": [
    "df_dist.head(2)"
   ]
  },
  {
   "cell_type": "markdown",
   "metadata": {},
   "source": [
    "### Data preparation for modeling"
   ]
  },
  {
   "cell_type": "code",
   "execution_count": 7,
   "metadata": {
    "ExecuteTime": {
     "end_time": "2020-06-10T21:28:53.262875Z",
     "start_time": "2020-06-10T21:28:48.364303Z"
    }
   },
   "outputs": [],
   "source": [
    "df['date'] = pd.to_datetime(df['date'])\n",
    "df['date'] = pd.DatetimeIndex(df['date']).month.map(str) + pd.DatetimeIndex(df['date']).day.map(str)\n",
    "df['date'] = pd.to_datetime(df['date'], format='%m%d').dt.strftime('%m%d')"
   ]
  },
  {
   "cell_type": "code",
   "execution_count": 8,
   "metadata": {
    "ExecuteTime": {
     "end_time": "2020-06-10T21:28:53.620732Z",
     "start_time": "2020-06-10T21:28:53.266834Z"
    }
   },
   "outputs": [],
   "source": [
    "df['date'] = df['date'].map(lambda x: int(x))"
   ]
  },
  {
   "cell_type": "code",
   "execution_count": 9,
   "metadata": {
    "ExecuteTime": {
     "end_time": "2020-06-10T21:28:53.638642Z",
     "start_time": "2020-06-10T21:28:53.624693Z"
    },
    "scrolled": false
   },
   "outputs": [
    {
     "data": {
      "text/html": [
       "<div>\n",
       "<style scoped>\n",
       "    .dataframe tbody tr th:only-of-type {\n",
       "        vertical-align: middle;\n",
       "    }\n",
       "\n",
       "    .dataframe tbody tr th {\n",
       "        vertical-align: top;\n",
       "    }\n",
       "\n",
       "    .dataframe thead th {\n",
       "        text-align: right;\n",
       "    }\n",
       "</style>\n",
       "<table border=\"1\" class=\"dataframe\">\n",
       "  <thead>\n",
       "    <tr style=\"text-align: right;\">\n",
       "      <th></th>\n",
       "      <th>date</th>\n",
       "      <th>type</th>\n",
       "      <th>state</th>\n",
       "      <th>aqi</th>\n",
       "      <th>pt_id</th>\n",
       "    </tr>\n",
       "  </thead>\n",
       "  <tbody>\n",
       "    <tr>\n",
       "      <th>0</th>\n",
       "      <td>101</td>\n",
       "      <td>PM25</td>\n",
       "      <td>Hawaii</td>\n",
       "      <td>24.0</td>\n",
       "      <td>0</td>\n",
       "    </tr>\n",
       "    <tr>\n",
       "      <th>1</th>\n",
       "      <td>102</td>\n",
       "      <td>PM25</td>\n",
       "      <td>Hawaii</td>\n",
       "      <td>20.0</td>\n",
       "      <td>0</td>\n",
       "    </tr>\n",
       "    <tr>\n",
       "      <th>2</th>\n",
       "      <td>103</td>\n",
       "      <td>PM25</td>\n",
       "      <td>Hawaii</td>\n",
       "      <td>21.0</td>\n",
       "      <td>0</td>\n",
       "    </tr>\n",
       "  </tbody>\n",
       "</table>\n",
       "</div>"
      ],
      "text/plain": [
       "   date  type   state   aqi  pt_id\n",
       "0   101  PM25  Hawaii  24.0      0\n",
       "1   102  PM25  Hawaii  20.0      0\n",
       "2   103  PM25  Hawaii  21.0      0"
      ]
     },
     "execution_count": 9,
     "metadata": {},
     "output_type": "execute_result"
    }
   ],
   "source": [
    "df.head(3)"
   ]
  },
  {
   "cell_type": "markdown",
   "metadata": {},
   "source": [
    "##### Standard scaler"
   ]
  },
  {
   "cell_type": "code",
   "execution_count": 10,
   "metadata": {
    "ExecuteTime": {
     "end_time": "2020-06-10T21:28:53.651608Z",
     "start_time": "2020-06-10T21:28:53.643635Z"
    }
   },
   "outputs": [],
   "source": [
    "ss = StandardScaler()"
   ]
  },
  {
   "cell_type": "markdown",
   "metadata": {},
   "source": [
    "[ X: date, AQI, States / y: Air types - Ozone or PM 2.5 ]"
   ]
  },
  {
   "cell_type": "code",
   "execution_count": 11,
   "metadata": {
    "ExecuteTime": {
     "end_time": "2020-06-10T21:28:54.013649Z",
     "start_time": "2020-06-10T21:28:53.654603Z"
    }
   },
   "outputs": [
    {
     "data": {
      "text/html": [
       "<div>\n",
       "<style scoped>\n",
       "    .dataframe tbody tr th:only-of-type {\n",
       "        vertical-align: middle;\n",
       "    }\n",
       "\n",
       "    .dataframe tbody tr th {\n",
       "        vertical-align: top;\n",
       "    }\n",
       "\n",
       "    .dataframe thead th {\n",
       "        text-align: right;\n",
       "    }\n",
       "</style>\n",
       "<table border=\"1\" class=\"dataframe\">\n",
       "  <thead>\n",
       "    <tr style=\"text-align: right;\">\n",
       "      <th></th>\n",
       "      <th>date</th>\n",
       "      <th>aqi</th>\n",
       "      <th>state_Alaska</th>\n",
       "      <th>state_Arizona</th>\n",
       "      <th>state_Arkansas</th>\n",
       "      <th>state_California</th>\n",
       "      <th>state_Colorado</th>\n",
       "      <th>state_Connecticut</th>\n",
       "      <th>state_Delaware</th>\n",
       "      <th>state_District Of Columbia</th>\n",
       "      <th>...</th>\n",
       "      <th>state_South Dakota</th>\n",
       "      <th>state_Tennessee</th>\n",
       "      <th>state_Texas</th>\n",
       "      <th>state_Utah</th>\n",
       "      <th>state_Vermont</th>\n",
       "      <th>state_Virginia</th>\n",
       "      <th>state_Washington</th>\n",
       "      <th>state_West Virginia</th>\n",
       "      <th>state_Wisconsin</th>\n",
       "      <th>state_Wyoming</th>\n",
       "    </tr>\n",
       "  </thead>\n",
       "  <tbody>\n",
       "    <tr>\n",
       "      <th>0</th>\n",
       "      <td>101</td>\n",
       "      <td>24.0</td>\n",
       "      <td>0</td>\n",
       "      <td>0</td>\n",
       "      <td>0</td>\n",
       "      <td>0</td>\n",
       "      <td>0</td>\n",
       "      <td>0</td>\n",
       "      <td>0</td>\n",
       "      <td>0</td>\n",
       "      <td>...</td>\n",
       "      <td>0</td>\n",
       "      <td>0</td>\n",
       "      <td>0</td>\n",
       "      <td>0</td>\n",
       "      <td>0</td>\n",
       "      <td>0</td>\n",
       "      <td>0</td>\n",
       "      <td>0</td>\n",
       "      <td>0</td>\n",
       "      <td>0</td>\n",
       "    </tr>\n",
       "    <tr>\n",
       "      <th>1</th>\n",
       "      <td>102</td>\n",
       "      <td>20.0</td>\n",
       "      <td>0</td>\n",
       "      <td>0</td>\n",
       "      <td>0</td>\n",
       "      <td>0</td>\n",
       "      <td>0</td>\n",
       "      <td>0</td>\n",
       "      <td>0</td>\n",
       "      <td>0</td>\n",
       "      <td>...</td>\n",
       "      <td>0</td>\n",
       "      <td>0</td>\n",
       "      <td>0</td>\n",
       "      <td>0</td>\n",
       "      <td>0</td>\n",
       "      <td>0</td>\n",
       "      <td>0</td>\n",
       "      <td>0</td>\n",
       "      <td>0</td>\n",
       "      <td>0</td>\n",
       "    </tr>\n",
       "  </tbody>\n",
       "</table>\n",
       "<p>2 rows × 52 columns</p>\n",
       "</div>"
      ],
      "text/plain": [
       "   date   aqi  state_Alaska  state_Arizona  state_Arkansas  state_California  \\\n",
       "0   101  24.0             0              0               0                 0   \n",
       "1   102  20.0             0              0               0                 0   \n",
       "\n",
       "   state_Colorado  state_Connecticut  state_Delaware  \\\n",
       "0               0                  0               0   \n",
       "1               0                  0               0   \n",
       "\n",
       "   state_District Of Columbia  ...  state_South Dakota  state_Tennessee  \\\n",
       "0                           0  ...                   0                0   \n",
       "1                           0  ...                   0                0   \n",
       "\n",
       "   state_Texas  state_Utah  state_Vermont  state_Virginia  state_Washington  \\\n",
       "0            0           0              0               0                 0   \n",
       "1            0           0              0               0                 0   \n",
       "\n",
       "   state_West Virginia  state_Wisconsin  state_Wyoming  \n",
       "0                    0                0              0  \n",
       "1                    0                0              0  \n",
       "\n",
       "[2 rows x 52 columns]"
      ]
     },
     "execution_count": 11,
     "metadata": {},
     "output_type": "execute_result"
    }
   ],
   "source": [
    "X = df.drop(columns=['type', 'pt_id'])\n",
    "y = df['type']\n",
    "\n",
    "# We use get_dummies because it makes exogenous(X) readable\n",
    "X = pd.get_dummies(X, columns=['state'], drop_first=True)\n",
    "X.head(2)"
   ]
  },
  {
   "cell_type": "code",
   "execution_count": 12,
   "metadata": {
    "ExecuteTime": {
     "end_time": "2020-06-10T21:28:54.274289Z",
     "start_time": "2020-06-10T21:28:54.015643Z"
    }
   },
   "outputs": [],
   "source": [
    "X_train, X_test, y_train, y_test = train_test_split(X, y, test_size=0.33, random_state=42)"
   ]
  },
  {
   "cell_type": "code",
   "execution_count": 13,
   "metadata": {
    "ExecuteTime": {
     "end_time": "2020-06-10T21:28:55.515617Z",
     "start_time": "2020-06-10T21:28:54.276296Z"
    }
   },
   "outputs": [],
   "source": [
    "ss.fit(X_train) # Always fit to X_train because of data leaking\n",
    "X_train_ss = ss.transform(X_train)\n",
    "X_test_ss = ss.transform(X_test)"
   ]
  },
  {
   "cell_type": "markdown",
   "metadata": {},
   "source": [
    "[ X_sm: date, AQI, Air type / y_sm: 3 states(Texas, Washington, Illinois) ]"
   ]
  },
  {
   "cell_type": "code",
   "execution_count": 14,
   "metadata": {
    "ExecuteTime": {
     "end_time": "2020-06-10T21:28:55.866774Z",
     "start_time": "2020-06-10T21:28:55.517683Z"
    }
   },
   "outputs": [
    {
     "data": {
      "text/plain": [
       "((56677, 3), (56677,))"
      ]
     },
     "execution_count": 14,
     "metadata": {},
     "output_type": "execute_result"
    }
   ],
   "source": [
    "# Prepare data for Linear Regression\n",
    "X_sm = df[(df['state'] == 'Texas') | (df['state'] == 'Washington') | (df['state'] == 'Illinois')].drop(columns=['state', 'pt_id'])\n",
    "y_sm = df[(df['state'] == 'Texas') | (df['state'] == 'Washington') | (df['state'] == 'Illinois')]['state']\n",
    "X_sm = pd.get_dummies(X_sm, columns=['type'], drop_first=True)\n",
    "X_sm.shape, y_sm.shape"
   ]
  },
  {
   "cell_type": "code",
   "execution_count": 15,
   "metadata": {
    "ExecuteTime": {
     "end_time": "2020-06-10T21:28:55.888699Z",
     "start_time": "2020-06-10T21:28:55.868754Z"
    }
   },
   "outputs": [],
   "source": [
    "X_sm_train, X_sm_test, y_sm_train, y_sm_test = train_test_split(X_sm, y_sm, test_size=0.33, random_state=42)"
   ]
  },
  {
   "cell_type": "code",
   "execution_count": 16,
   "metadata": {
    "ExecuteTime": {
     "end_time": "2020-06-10T21:28:55.905314Z",
     "start_time": "2020-06-10T21:28:55.890693Z"
    }
   },
   "outputs": [],
   "source": [
    "ss.fit(X_sm_train) # Always fit to X_train because of data leaking\n",
    "X_sm_train_ss = ss.transform(X_sm_train)\n",
    "X_sm_test_ss = ss.transform(X_sm_test)"
   ]
  },
  {
   "cell_type": "markdown",
   "metadata": {},
   "source": [
    "[ Xd: latitude, longitude / yd: state ]"
   ]
  },
  {
   "cell_type": "code",
   "execution_count": 17,
   "metadata": {
    "ExecuteTime": {
     "end_time": "2020-06-10T21:28:55.919112Z",
     "start_time": "2020-06-10T21:28:55.907143Z"
    }
   },
   "outputs": [],
   "source": [
    "Xd = df_dist.drop(columns='state')\n",
    "yd = df_dist['state']\n",
    "Xd_train, Xd_test, yd_train, yd_test = train_test_split(Xd, yd, test_size=0.33, random_state=42)"
   ]
  },
  {
   "cell_type": "code",
   "execution_count": 18,
   "metadata": {
    "ExecuteTime": {
     "end_time": "2020-06-10T21:28:55.930081Z",
     "start_time": "2020-06-10T21:28:55.921106Z"
    }
   },
   "outputs": [
    {
     "data": {
      "text/plain": [
       "(array([ 37.66786208, -95.29746607]), array([ 5.46612298, 17.53832282]))"
      ]
     },
     "execution_count": 18,
     "metadata": {},
     "output_type": "execute_result"
    }
   ],
   "source": [
    "ss.fit(Xd_train) # Always fit to X_train because of data leaking\n",
    "ss.mean_, ss.scale_"
   ]
  },
  {
   "cell_type": "code",
   "execution_count": 19,
   "metadata": {
    "ExecuteTime": {
     "end_time": "2020-06-10T21:28:55.938432Z",
     "start_time": "2020-06-10T21:28:55.932077Z"
    }
   },
   "outputs": [],
   "source": [
    "Xd_train_ss = ss.transform(Xd_train)\n",
    "Xd_test_ss = ss.transform(Xd_test)"
   ]
  },
  {
   "cell_type": "markdown",
   "metadata": {},
   "source": [
    "### Logistic Regression\n",
    "Predict state based on date, air type and AQI"
   ]
  },
  {
   "cell_type": "code",
   "execution_count": 20,
   "metadata": {
    "ExecuteTime": {
     "end_time": "2020-06-10T21:28:57.962721Z",
     "start_time": "2020-06-10T21:28:55.940427Z"
    }
   },
   "outputs": [
    {
     "name": "stderr",
     "output_type": "stream",
     "text": [
      "C:\\Users\\jjing\\Anaconda3\\lib\\site-packages\\sklearn\\linear_model\\logistic.py:469: FutureWarning: Default multi_class will be changed to 'auto' in 0.22. Specify the multi_class option to silence this warning.\n",
      "  \"this warning.\", FutureWarning)\n",
      "C:\\Users\\jjing\\Anaconda3\\lib\\site-packages\\sklearn\\linear_model\\sag.py:337: ConvergenceWarning: The max_iter was reached which means the coef_ did not converge\n",
      "  \"the coef_ did not converge\", ConvergenceWarning)\n"
     ]
    },
    {
     "data": {
      "text/plain": [
       "LogisticRegression(C=1.5, class_weight=None, dual=False, fit_intercept=True,\n",
       "                   intercept_scaling=1, l1_ratio=None, max_iter=100,\n",
       "                   multi_class='warn', n_jobs=None, penalty='l2',\n",
       "                   random_state=42, solver='saga', tol=0.0001, verbose=0,\n",
       "                   warm_start=False)"
      ]
     },
     "execution_count": 20,
     "metadata": {},
     "output_type": "execute_result"
    }
   ],
   "source": [
    "lgr = LogisticRegression(solver='saga', random_state=42, C=1.5)\n",
    "lgr.fit(X_sm_train, y_sm_train)"
   ]
  },
  {
   "cell_type": "code",
   "execution_count": 21,
   "metadata": {
    "ExecuteTime": {
     "end_time": "2020-06-10T21:28:57.972667Z",
     "start_time": "2020-06-10T21:28:57.964684Z"
    }
   },
   "outputs": [
    {
     "data": {
      "text/plain": [
       "(array([-0.12584565,  0.01478667, -0.01764719]),\n",
       " array([[-9.39236697e-04, -3.86153436e-03,  1.99236475e-02],\n",
       "        [ 1.75534263e-04,  8.11241694e-03, -2.58666549e-01],\n",
       "        [-1.97807540e-04, -5.07969878e-02,  1.80770496e-01]]))"
      ]
     },
     "execution_count": 21,
     "metadata": {},
     "output_type": "execute_result"
    }
   ],
   "source": [
    "lgr.intercept_, lgr.coef_"
   ]
  },
  {
   "cell_type": "code",
   "execution_count": 22,
   "metadata": {
    "ExecuteTime": {
     "end_time": "2020-06-10T21:28:58.122273Z",
     "start_time": "2020-06-10T21:28:57.976171Z"
    }
   },
   "outputs": [
    {
     "data": {
      "text/plain": [
       "(0.5860479814605114, 0.5892857142857143)"
      ]
     },
     "execution_count": 22,
     "metadata": {},
     "output_type": "execute_result"
    }
   ],
   "source": [
    "lgr.score(X_sm_train, y_sm_train), lgr.score(X_sm_test, y_sm_test)"
   ]
  },
  {
   "cell_type": "code",
   "execution_count": 23,
   "metadata": {
    "ExecuteTime": {
     "end_time": "2020-06-10T21:28:58.816139Z",
     "start_time": "2020-06-10T21:28:58.128256Z"
    }
   },
   "outputs": [
    {
     "name": "stderr",
     "output_type": "stream",
     "text": [
      "C:\\Users\\jjing\\Anaconda3\\lib\\site-packages\\sklearn\\linear_model\\logistic.py:469: FutureWarning: Default multi_class will be changed to 'auto' in 0.22. Specify the multi_class option to silence this warning.\n",
      "  \"this warning.\", FutureWarning)\n"
     ]
    },
    {
     "data": {
      "text/plain": [
       "LogisticRegression(C=1.5, class_weight=None, dual=False, fit_intercept=True,\n",
       "                   intercept_scaling=1, l1_ratio=None, max_iter=100,\n",
       "                   multi_class='warn', n_jobs=None, penalty='l2',\n",
       "                   random_state=42, solver='saga', tol=0.0001, verbose=0,\n",
       "                   warm_start=False)"
      ]
     },
     "execution_count": 23,
     "metadata": {},
     "output_type": "execute_result"
    }
   ],
   "source": [
    "# fit with scaled data\n",
    "lgr.fit(X_sm_train_ss, y_sm_train)"
   ]
  },
  {
   "cell_type": "code",
   "execution_count": 24,
   "metadata": {
    "ExecuteTime": {
     "end_time": "2020-06-10T21:28:58.991919Z",
     "start_time": "2020-06-10T21:28:58.820128Z"
    }
   },
   "outputs": [
    {
     "data": {
      "text/plain": [
       "(0.5998209253943592, 0.6014221556886228)"
      ]
     },
     "execution_count": 24,
     "metadata": {},
     "output_type": "execute_result"
    }
   ],
   "source": [
    "lgr.score(X_sm_train_ss, y_sm_train), lgr.score(X_sm_test_ss, y_sm_test)"
   ]
  },
  {
   "cell_type": "markdown",
   "metadata": {},
   "source": [
    "Predict Air type (OZ or PM 2.5) based on date, AQI, state"
   ]
  },
  {
   "cell_type": "code",
   "execution_count": 25,
   "metadata": {
    "ExecuteTime": {
     "end_time": "2020-06-10T21:29:03.013393Z",
     "start_time": "2020-06-10T21:28:58.994913Z"
    }
   },
   "outputs": [
    {
     "data": {
      "text/plain": [
       "LogisticRegression(C=10.0, class_weight=None, dual=False, fit_intercept=True,\n",
       "                   intercept_scaling=1, l1_ratio=None, max_iter=100,\n",
       "                   multi_class='warn', n_jobs=None, penalty='l2',\n",
       "                   random_state=42, solver='liblinear', tol=0.0001, verbose=0,\n",
       "                   warm_start=False)"
      ]
     },
     "execution_count": 25,
     "metadata": {},
     "output_type": "execute_result"
    }
   ],
   "source": [
    "lgr = LogisticRegression(solver='liblinear', random_state=42, C=10.0)\n",
    "lgr.fit(X_train, y_train)"
   ]
  },
  {
   "cell_type": "code",
   "execution_count": 26,
   "metadata": {
    "ExecuteTime": {
     "end_time": "2020-06-10T21:29:06.561310Z",
     "start_time": "2020-06-10T21:29:03.017350Z"
    }
   },
   "outputs": [
    {
     "data": {
      "text/plain": [
       "(0.7082589355860733, 0.7086569415040167)"
      ]
     },
     "execution_count": 26,
     "metadata": {},
     "output_type": "execute_result"
    }
   ],
   "source": [
    "lgr.score(X_train, y_train), lgr.score(X_test, y_test)"
   ]
  },
  {
   "cell_type": "code",
   "execution_count": 27,
   "metadata": {
    "ExecuteTime": {
     "end_time": "2020-06-10T21:29:06.671045Z",
     "start_time": "2020-06-10T21:29:06.564298Z"
    }
   },
   "outputs": [
    {
     "data": {
      "text/plain": [
       "array(['OZ', 'OZ', 'OZ', ..., 'OZ', 'OZ', 'OZ'], dtype=object)"
      ]
     },
     "execution_count": 27,
     "metadata": {},
     "output_type": "execute_result"
    }
   ],
   "source": [
    "lgr.predict(X_test)"
   ]
  },
  {
   "cell_type": "code",
   "execution_count": 28,
   "metadata": {
    "ExecuteTime": {
     "end_time": "2020-06-10T21:29:12.619285Z",
     "start_time": "2020-06-10T21:29:06.674038Z"
    }
   },
   "outputs": [
    {
     "data": {
      "text/plain": [
       "LogisticRegression(C=10.0, class_weight=None, dual=False, fit_intercept=True,\n",
       "                   intercept_scaling=1, l1_ratio=None, max_iter=100,\n",
       "                   multi_class='warn', n_jobs=None, penalty='l2',\n",
       "                   random_state=42, solver='liblinear', tol=0.0001, verbose=0,\n",
       "                   warm_start=False)"
      ]
     },
     "execution_count": 28,
     "metadata": {},
     "output_type": "execute_result"
    }
   ],
   "source": [
    "# fit with scaled data\n",
    "lgr.fit(X_train_ss, y_train)"
   ]
  },
  {
   "cell_type": "code",
   "execution_count": 29,
   "metadata": {
    "ExecuteTime": {
     "end_time": "2020-06-10T21:29:15.362449Z",
     "start_time": "2020-06-10T21:29:12.621281Z"
    }
   },
   "outputs": [
    {
     "data": {
      "text/plain": [
       "(0.7097073704479292, 0.7101766190075693)"
      ]
     },
     "execution_count": 29,
     "metadata": {},
     "output_type": "execute_result"
    }
   ],
   "source": [
    "lgr.score(X_train_ss, y_train), lgr.score(X_test_ss, y_test)"
   ]
  },
  {
   "cell_type": "markdown",
   "metadata": {},
   "source": [
    "#### Confusion matrix"
   ]
  },
  {
   "cell_type": "code",
   "execution_count": 30,
   "metadata": {
    "ExecuteTime": {
     "end_time": "2020-06-10T21:29:15.439169Z",
     "start_time": "2020-06-10T21:29:15.364474Z"
    }
   },
   "outputs": [
    {
     "data": {
      "text/plain": [
       "OZ      0.590731\n",
       "PM25    0.409269\n",
       "Name: type, dtype: float64"
      ]
     },
     "execution_count": 30,
     "metadata": {},
     "output_type": "execute_result"
    }
   ],
   "source": [
    "y_test.value_counts(normalize=True)"
   ]
  },
  {
   "cell_type": "code",
   "execution_count": 31,
   "metadata": {
    "ExecuteTime": {
     "end_time": "2020-06-10T21:29:17.184323Z",
     "start_time": "2020-06-10T21:29:15.441346Z"
    }
   },
   "outputs": [
    {
     "data": {
      "text/plain": [
       "array([[87286, 14559],\n",
       "       [35408, 35152]], dtype=int64)"
      ]
     },
     "execution_count": 31,
     "metadata": {},
     "output_type": "execute_result"
    }
   ],
   "source": [
    "confusion_matrix(y_test, lgr.predict(X_test_ss))"
   ]
  },
  {
   "cell_type": "code",
   "execution_count": 32,
   "metadata": {
    "ExecuteTime": {
     "end_time": "2020-06-10T21:29:18.985814Z",
     "start_time": "2020-06-10T21:29:17.186275Z"
    },
    "scrolled": true
   },
   "outputs": [
    {
     "name": "stdout",
     "output_type": "stream",
     "text": [
      "Accuracy: 0.7102\n",
      "Missclassification: 0.2898\n",
      "Sensitivity: 0.4982\n",
      "Specificity: 0.857\n",
      "Precision: 0.7071\n",
      "F1 score: 0.5845\n"
     ]
    }
   ],
   "source": [
    "pred = lgr.predict(X_test_ss)\n",
    "tn, fp, fn, tp = confusion_matrix(y_test, pred).ravel()\n",
    "\n",
    "acc = (tp + tn) / (tn + fp + fn + tp) # Correctly predicted\n",
    "print(f'Accuracy: {round(acc,4)}')\n",
    "\n",
    "miss = 1 - acc\n",
    "print(f'Missclassification: {round(miss,4)}')\n",
    "\n",
    "sens = tp / (tp + fn) # Recall (Correctly predicted among all positives)\n",
    "print(f'Sensitivity: {round(sens,4)}')\n",
    "\n",
    "spec = tn / (tn + fp)  # Correctly predicted among all negatives\n",
    "print(f'Specificity: {round(spec,4)}')\n",
    "\n",
    "prec = tp / (tp + fp) # Correctly predicted among all positively predicted\n",
    "print(f'Precision: {round(prec,4)}')\n",
    "\n",
    "f1 = 2*(prec*sens)/(prec+sens) # metric needed to check for unbalanced data\n",
    "print(f'F1 score: {round(f1,4)}')"
   ]
  },
  {
   "cell_type": "markdown",
   "metadata": {},
   "source": [
    "### KNeighbors Classifier\n",
    "Predict state based on latitude and longitude"
   ]
  },
  {
   "cell_type": "code",
   "execution_count": 33,
   "metadata": {
    "ExecuteTime": {
     "end_time": "2020-06-10T21:29:18.991092Z",
     "start_time": "2020-06-10T21:29:18.987808Z"
    }
   },
   "outputs": [],
   "source": [
    "knn = KNeighborsClassifier(n_neighbors=3)"
   ]
  },
  {
   "cell_type": "code",
   "execution_count": 34,
   "metadata": {
    "ExecuteTime": {
     "end_time": "2020-06-10T21:29:19.008274Z",
     "start_time": "2020-06-10T21:29:18.993798Z"
    }
   },
   "outputs": [
    {
     "data": {
      "text/plain": [
       "KNeighborsClassifier(algorithm='auto', leaf_size=30, metric='minkowski',\n",
       "                     metric_params=None, n_jobs=None, n_neighbors=3, p=2,\n",
       "                     weights='uniform')"
      ]
     },
     "execution_count": 34,
     "metadata": {},
     "output_type": "execute_result"
    }
   ],
   "source": [
    "knn.fit(Xd_train_ss, yd_train)"
   ]
  },
  {
   "cell_type": "code",
   "execution_count": 35,
   "metadata": {
    "ExecuteTime": {
     "end_time": "2020-06-10T21:29:19.053816Z",
     "start_time": "2020-06-10T21:29:19.010266Z"
    }
   },
   "outputs": [
    {
     "data": {
      "text/plain": [
       "(0.9455645161290323, 0.8693877551020408)"
      ]
     },
     "execution_count": 35,
     "metadata": {},
     "output_type": "execute_result"
    }
   ],
   "source": [
    "knn.score(Xd_train_ss, yd_train), knn.score(Xd_test_ss, yd_test)"
   ]
  },
  {
   "cell_type": "code",
   "execution_count": 36,
   "metadata": {
    "ExecuteTime": {
     "end_time": "2020-06-10T21:29:19.077273Z",
     "start_time": "2020-06-10T21:29:19.055827Z"
    }
   },
   "outputs": [
    {
     "data": {
      "text/plain": [
       "array([[ 5,  0,  0, ...,  0,  0,  0],\n",
       "       [ 0,  4,  0, ...,  0,  0,  0],\n",
       "       [ 0,  0, 23, ...,  0,  0,  0],\n",
       "       ...,\n",
       "       [ 0,  0,  0, ...,  1,  0,  0],\n",
       "       [ 0,  0,  0, ...,  0,  8,  0],\n",
       "       [ 0,  0,  0, ...,  0,  0,  4]], dtype=int64)"
      ]
     },
     "execution_count": 36,
     "metadata": {},
     "output_type": "execute_result"
    }
   ],
   "source": [
    "confusion_matrix(yd_test, knn.predict(Xd_test_ss))"
   ]
  },
  {
   "cell_type": "markdown",
   "metadata": {},
   "source": [
    "Modeling using Pipeline"
   ]
  },
  {
   "cell_type": "code",
   "execution_count": 37,
   "metadata": {
    "ExecuteTime": {
     "end_time": "2020-06-10T21:29:19.093216Z",
     "start_time": "2020-06-10T21:29:19.079267Z"
    }
   },
   "outputs": [
    {
     "data": {
      "text/plain": [
       "Pipeline(memory=None,\n",
       "         steps=[('ss',\n",
       "                 StandardScaler(copy=True, with_mean=True, with_std=True)),\n",
       "                ('knn',\n",
       "                 KNeighborsClassifier(algorithm='auto', leaf_size=30,\n",
       "                                      metric='minkowski', metric_params=None,\n",
       "                                      n_jobs=None, n_neighbors=3, p=2,\n",
       "                                      weights='uniform'))],\n",
       "         verbose=False)"
      ]
     },
     "execution_count": 37,
     "metadata": {},
     "output_type": "execute_result"
    }
   ],
   "source": [
    "pipe = Pipeline([\n",
    "    ('ss', StandardScaler()),\n",
    "    ('knn', KNeighborsClassifier(n_neighbors=3))\n",
    "])\n",
    "pipe.fit(Xd_train, yd_train)"
   ]
  },
  {
   "cell_type": "code",
   "execution_count": 38,
   "metadata": {
    "ExecuteTime": {
     "end_time": "2020-06-10T21:29:19.146698Z",
     "start_time": "2020-06-10T21:29:19.096208Z"
    }
   },
   "outputs": [
    {
     "data": {
      "text/plain": [
       "(0.9455645161290323, 0.8693877551020408)"
      ]
     },
     "execution_count": 38,
     "metadata": {},
     "output_type": "execute_result"
    }
   ],
   "source": [
    "pipe.score(Xd_train, yd_train), pipe.score(Xd_test, yd_test)"
   ]
  },
  {
   "cell_type": "markdown",
   "metadata": {},
   "source": [
    "Pipeline and Gridsearch"
   ]
  },
  {
   "cell_type": "code",
   "execution_count": 39,
   "metadata": {
    "ExecuteTime": {
     "end_time": "2020-06-10T21:29:19.170061Z",
     "start_time": "2020-06-10T21:29:19.147697Z"
    }
   },
   "outputs": [],
   "source": [
    "pipe_params = {\n",
    "    'ss__with_mean':[True, False],\n",
    "    'knn__weights':['uniform', 'distance'],\n",
    "    'knn__n_neighbors':[3, 5, 10]\n",
    "}"
   ]
  },
  {
   "cell_type": "code",
   "execution_count": 40,
   "metadata": {
    "ExecuteTime": {
     "end_time": "2020-06-10T21:29:19.185286Z",
     "start_time": "2020-06-10T21:29:19.177358Z"
    }
   },
   "outputs": [],
   "source": [
    "pipe_gs = GridSearchCV(pipe, pipe_params, cv=5)"
   ]
  },
  {
   "cell_type": "code",
   "execution_count": 41,
   "metadata": {
    "ExecuteTime": {
     "end_time": "2020-06-10T21:29:19.729916Z",
     "start_time": "2020-06-10T21:29:19.191869Z"
    }
   },
   "outputs": [
    {
     "name": "stderr",
     "output_type": "stream",
     "text": [
      "C:\\Users\\jjing\\Anaconda3\\lib\\site-packages\\sklearn\\model_selection\\_split.py:657: Warning: The least populated class in y has only 2 members, which is too few. The minimum number of members in any class cannot be less than n_splits=5.\n",
      "  % (min_groups, self.n_splits)), Warning)\n",
      "C:\\Users\\jjing\\Anaconda3\\lib\\site-packages\\sklearn\\model_selection\\_search.py:814: DeprecationWarning: The default of the `iid` parameter will change from True to False in version 0.22 and will be removed in 0.24. This will change numeric results when test-set sizes are unequal.\n",
      "  DeprecationWarning)\n"
     ]
    },
    {
     "data": {
      "text/plain": [
       "GridSearchCV(cv=5, error_score='raise-deprecating',\n",
       "             estimator=Pipeline(memory=None,\n",
       "                                steps=[('ss',\n",
       "                                        StandardScaler(copy=True,\n",
       "                                                       with_mean=True,\n",
       "                                                       with_std=True)),\n",
       "                                       ('knn',\n",
       "                                        KNeighborsClassifier(algorithm='auto',\n",
       "                                                             leaf_size=30,\n",
       "                                                             metric='minkowski',\n",
       "                                                             metric_params=None,\n",
       "                                                             n_jobs=None,\n",
       "                                                             n_neighbors=3, p=2,\n",
       "                                                             weights='uniform'))],\n",
       "                                verbose=False),\n",
       "             iid='warn', n_jobs=None,\n",
       "             param_grid={'knn__n_neighbors': [3, 5, 10],\n",
       "                         'knn__weights': ['uniform', 'distance'],\n",
       "                         'ss__with_mean': [True, False]},\n",
       "             pre_dispatch='2*n_jobs', refit=True, return_train_score=False,\n",
       "             scoring=None, verbose=0)"
      ]
     },
     "execution_count": 41,
     "metadata": {},
     "output_type": "execute_result"
    }
   ],
   "source": [
    "pipe_gs.fit(Xd_train, yd_train)"
   ]
  },
  {
   "cell_type": "code",
   "execution_count": 42,
   "metadata": {
    "ExecuteTime": {
     "end_time": "2020-06-10T21:29:19.740468Z",
     "start_time": "2020-06-10T21:29:19.731391Z"
    }
   },
   "outputs": [
    {
     "data": {
      "text/plain": [
       "0.8850806451612904"
      ]
     },
     "execution_count": 42,
     "metadata": {},
     "output_type": "execute_result"
    }
   ],
   "source": [
    "pipe_gs.best_score_"
   ]
  },
  {
   "cell_type": "code",
   "execution_count": 43,
   "metadata": {
    "ExecuteTime": {
     "end_time": "2020-06-10T21:29:19.752992Z",
     "start_time": "2020-06-10T21:29:19.741976Z"
    }
   },
   "outputs": [
    {
     "data": {
      "text/plain": [
       "Pipeline(memory=None,\n",
       "         steps=[('ss',\n",
       "                 StandardScaler(copy=True, with_mean=True, with_std=True)),\n",
       "                ('knn',\n",
       "                 KNeighborsClassifier(algorithm='auto', leaf_size=30,\n",
       "                                      metric='minkowski', metric_params=None,\n",
       "                                      n_jobs=None, n_neighbors=5, p=2,\n",
       "                                      weights='distance'))],\n",
       "         verbose=False)"
      ]
     },
     "execution_count": 43,
     "metadata": {},
     "output_type": "execute_result"
    }
   ],
   "source": [
    "pipe_gs.best_estimator_"
   ]
  },
  {
   "cell_type": "code",
   "execution_count": 44,
   "metadata": {
    "ExecuteTime": {
     "end_time": "2020-06-10T21:29:19.769086Z",
     "start_time": "2020-06-10T21:29:19.754987Z"
    }
   },
   "outputs": [
    {
     "data": {
      "text/plain": [
       "0.8795918367346939"
      ]
     },
     "execution_count": 44,
     "metadata": {},
     "output_type": "execute_result"
    }
   ],
   "source": [
    "pipe_gs.score(Xd_test, yd_test)"
   ]
  },
  {
   "cell_type": "markdown",
   "metadata": {},
   "source": [
    "### Decision tree\n",
    "Predict state based on date, air type and AQI"
   ]
  },
  {
   "cell_type": "code",
   "execution_count": 45,
   "metadata": {
    "ExecuteTime": {
     "end_time": "2020-06-10T21:29:25.742290Z",
     "start_time": "2020-06-10T21:29:19.770913Z"
    }
   },
   "outputs": [
    {
     "data": {
      "text/plain": [
       "GridSearchCV(cv=5, error_score='raise-deprecating',\n",
       "             estimator=DecisionTreeClassifier(class_weight=None,\n",
       "                                              criterion='gini', max_depth=None,\n",
       "                                              max_features=None,\n",
       "                                              max_leaf_nodes=None,\n",
       "                                              min_impurity_decrease=0.0,\n",
       "                                              min_impurity_split=None,\n",
       "                                              min_samples_leaf=1,\n",
       "                                              min_samples_split=2,\n",
       "                                              min_weight_fraction_leaf=0.0,\n",
       "                                              presort=False, random_state=42,\n",
       "                                              splitter='best'),\n",
       "             iid='warn', n_jobs=None,\n",
       "             param_grid={'max_depth': [30, 40, 50],\n",
       "                         'min_samples_split': [2, 10, 20]},\n",
       "             pre_dispatch='2*n_jobs', refit=True, return_train_score=False,\n",
       "             scoring=None, verbose=0)"
      ]
     },
     "execution_count": 45,
     "metadata": {},
     "output_type": "execute_result"
    }
   ],
   "source": [
    "gs_dt = GridSearchCV(estimator=DecisionTreeClassifier(random_state=42),\n",
    "                     param_grid={\n",
    "                         'max_depth':[30, 40, 50],\n",
    "                         'min_samples_split':[2, 10, 20]\n",
    "                     },\n",
    "                     cv=5\n",
    "                    )\n",
    "gs_dt.fit(X_sm_train, y_sm_train)"
   ]
  },
  {
   "cell_type": "code",
   "execution_count": 46,
   "metadata": {
    "ExecuteTime": {
     "end_time": "2020-06-10T21:29:25.751448Z",
     "start_time": "2020-06-10T21:29:25.744242Z"
    }
   },
   "outputs": [
    {
     "data": {
      "text/plain": [
       "0.662707713375293"
      ]
     },
     "execution_count": 46,
     "metadata": {},
     "output_type": "execute_result"
    }
   ],
   "source": [
    "gs_dt.best_score_"
   ]
  },
  {
   "cell_type": "code",
   "execution_count": 47,
   "metadata": {
    "ExecuteTime": {
     "end_time": "2020-06-10T21:29:25.763431Z",
     "start_time": "2020-06-10T21:29:25.754419Z"
    }
   },
   "outputs": [
    {
     "data": {
      "text/plain": [
       "{'max_depth': 40, 'min_samples_split': 20}"
      ]
     },
     "execution_count": 47,
     "metadata": {},
     "output_type": "execute_result"
    }
   ],
   "source": [
    "gs_dt.best_params_"
   ]
  },
  {
   "cell_type": "markdown",
   "metadata": {},
   "source": [
    "### Random Forest\n",
    "Predict state based on date, air type and AQI"
   ]
  },
  {
   "cell_type": "code",
   "execution_count": 48,
   "metadata": {
    "ExecuteTime": {
     "end_time": "2020-06-10T21:31:56.660877Z",
     "start_time": "2020-06-10T21:29:25.765390Z"
    }
   },
   "outputs": [
    {
     "data": {
      "text/plain": [
       "{'max_depth': 30, 'n_estimators': 200}"
      ]
     },
     "execution_count": 48,
     "metadata": {},
     "output_type": "execute_result"
    }
   ],
   "source": [
    "gs_rf = GridSearchCV(estimator=RandomForestClassifier(random_state=42),\n",
    "                     param_grid={\n",
    "                         'n_estimators': [150, 200],\n",
    "                         'max_depth':[None, 30, 50]\n",
    "                     },\n",
    "                     cv=5\n",
    "                    )\n",
    "gs_rf.fit(X_sm_train, y_sm_train)\n",
    "gs_rf.best_params_"
   ]
  },
  {
   "cell_type": "code",
   "execution_count": 49,
   "metadata": {
    "ExecuteTime": {
     "end_time": "2020-06-10T21:31:56.669852Z",
     "start_time": "2020-06-10T21:31:56.663867Z"
    }
   },
   "outputs": [
    {
     "data": {
      "text/plain": [
       "0.6397966976535959"
      ]
     },
     "execution_count": 49,
     "metadata": {},
     "output_type": "execute_result"
    }
   ],
   "source": [
    "gs_rf.best_score_"
   ]
  },
  {
   "cell_type": "markdown",
   "metadata": {},
   "source": [
    "### Support Vector Machine - SVC\n",
    "Predict state based on date, air type and AQI"
   ]
  },
  {
   "cell_type": "code",
   "execution_count": 50,
   "metadata": {
    "ExecuteTime": {
     "end_time": "2020-06-10T21:33:35.604809Z",
     "start_time": "2020-06-10T21:31:56.672844Z"
    }
   },
   "outputs": [
    {
     "data": {
      "text/plain": [
       "(0.6202038290364206, 0.6181030795551754)"
      ]
     },
     "execution_count": 50,
     "metadata": {},
     "output_type": "execute_result"
    }
   ],
   "source": [
    "svc = SVC(random_state=42, C=5.0)\n",
    "svc.fit(X_sm_train_ss, y_sm_train)\n",
    "svc.score(X_sm_train_ss, y_sm_train), svc.score(X_sm_test_ss, y_sm_test)"
   ]
  },
  {
   "cell_type": "code",
   "execution_count": null,
   "metadata": {},
   "outputs": [],
   "source": []
  },
  {
   "cell_type": "code",
   "execution_count": null,
   "metadata": {},
   "outputs": [],
   "source": []
  },
  {
   "cell_type": "code",
   "execution_count": null,
   "metadata": {},
   "outputs": [],
   "source": []
  },
  {
   "cell_type": "code",
   "execution_count": null,
   "metadata": {},
   "outputs": [],
   "source": []
  },
  {
   "cell_type": "code",
   "execution_count": null,
   "metadata": {},
   "outputs": [],
   "source": []
  },
  {
   "cell_type": "code",
   "execution_count": null,
   "metadata": {},
   "outputs": [],
   "source": []
  },
  {
   "cell_type": "code",
   "execution_count": null,
   "metadata": {},
   "outputs": [],
   "source": []
  },
  {
   "cell_type": "code",
   "execution_count": null,
   "metadata": {},
   "outputs": [],
   "source": []
  },
  {
   "cell_type": "code",
   "execution_count": null,
   "metadata": {},
   "outputs": [],
   "source": []
  }
 ],
 "metadata": {
  "kernelspec": {
   "display_name": "Python 3",
   "language": "python",
   "name": "python3"
  },
  "language_info": {
   "codemirror_mode": {
    "name": "ipython",
    "version": 3
   },
   "file_extension": ".py",
   "mimetype": "text/x-python",
   "name": "python",
   "nbconvert_exporter": "python",
   "pygments_lexer": "ipython3",
   "version": "3.7.4"
  }
 },
 "nbformat": 4,
 "nbformat_minor": 2
}
