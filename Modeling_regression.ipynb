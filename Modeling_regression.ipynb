{
 "cells": [
  {
   "cell_type": "markdown",
   "metadata": {},
   "source": [
    "## Regression modeling\n",
    "---\n",
    "- Linear Regression\n",
    "- Decision Tree\n",
    "- Random Forest\n",
    "- SVR\n",
    "---\n",
    "- Database: Postgre SQL"
   ]
  },
  {
   "cell_type": "code",
   "execution_count": 1,
   "metadata": {
    "ExecuteTime": {
     "end_time": "2020-06-08T19:53:43.783004Z",
     "start_time": "2020-06-08T19:53:41.250060Z"
    }
   },
   "outputs": [],
   "source": [
    "import pandas as pd\n",
    "import numpy as np\n",
    "import psycopg2 as pg2\n",
    "\n",
    "from sklearn.preprocessing import OneHotEncoder\n",
    "from sklearn.compose import ColumnTransformer\n",
    "from sklearn.model_selection import train_test_split, GridSearchCV\n",
    "\n",
    "from sklearn.linear_model import LinearRegression\n",
    "from sklearn.tree import DecisionTreeRegressor\n",
    "from sklearn.ensemble import RandomForestRegressor\n",
    "from sklearn.svm import SVR\n",
    "\n",
    "from sklearn.metrics import mean_squared_error"
   ]
  },
  {
   "cell_type": "markdown",
   "metadata": {},
   "source": [
    "### Fetch data from database"
   ]
  },
  {
   "cell_type": "code",
   "execution_count": 2,
   "metadata": {
    "ExecuteTime": {
     "end_time": "2020-06-08T19:53:44.682203Z",
     "start_time": "2020-06-08T19:53:44.614775Z"
    }
   },
   "outputs": [],
   "source": [
    "def get_cur():\n",
    "    db_pwd = 'password'\n",
    "    conn = pg2.connect(database='AQI_2019', user='postgres', password=db_pwd)\n",
    "    return conn.cursor()\n",
    "\n",
    "def close():\n",
    "    cur.close()\n",
    "    conn.close()\n",
    "\n",
    "cur = get_cur()"
   ]
  },
  {
   "cell_type": "code",
   "execution_count": 3,
   "metadata": {
    "ExecuteTime": {
     "end_time": "2020-06-08T19:53:47.977962Z",
     "start_time": "2020-06-08T19:53:46.786829Z"
    }
   },
   "outputs": [],
   "source": [
    "# fetch data\n",
    "cur.execute(\"\"\"SELECT * FROM aqi\n",
    "            INNER JOIN measuring_pt ON measuring_pt.pt_id = aqi.pt_id\n",
    "            WHERE aqi.type='PM25'\n",
    "            \"\"\")\n",
    "df = pd.DataFrame(cur.fetchall(), columns=['date', 'type', 'state', 'aqi', 'id1', 'lat', 'long', 'pt_id']).drop(columns=['id1', 'type'])"
   ]
  },
  {
   "cell_type": "code",
   "execution_count": 4,
   "metadata": {
    "ExecuteTime": {
     "end_time": "2020-06-08T19:53:49.613052Z",
     "start_time": "2020-06-08T19:53:49.591899Z"
    }
   },
   "outputs": [
    {
     "data": {
      "text/html": [
       "<div>\n",
       "<style scoped>\n",
       "    .dataframe tbody tr th:only-of-type {\n",
       "        vertical-align: middle;\n",
       "    }\n",
       "\n",
       "    .dataframe tbody tr th {\n",
       "        vertical-align: top;\n",
       "    }\n",
       "\n",
       "    .dataframe thead th {\n",
       "        text-align: right;\n",
       "    }\n",
       "</style>\n",
       "<table border=\"1\" class=\"dataframe\">\n",
       "  <thead>\n",
       "    <tr style=\"text-align: right;\">\n",
       "      <th></th>\n",
       "      <th>date</th>\n",
       "      <th>state</th>\n",
       "      <th>aqi</th>\n",
       "      <th>lat</th>\n",
       "      <th>long</th>\n",
       "      <th>pt_id</th>\n",
       "    </tr>\n",
       "  </thead>\n",
       "  <tbody>\n",
       "    <tr>\n",
       "      <th>0</th>\n",
       "      <td>2019-06-08</td>\n",
       "      <td>Louisiana</td>\n",
       "      <td>40.0</td>\n",
       "      <td>30.041238</td>\n",
       "      <td>-90.272826</td>\n",
       "      <td>121</td>\n",
       "    </tr>\n",
       "    <tr>\n",
       "      <th>1</th>\n",
       "      <td>2019-06-14</td>\n",
       "      <td>Louisiana</td>\n",
       "      <td>35.0</td>\n",
       "      <td>30.041238</td>\n",
       "      <td>-90.272826</td>\n",
       "      <td>121</td>\n",
       "    </tr>\n",
       "    <tr>\n",
       "      <th>2</th>\n",
       "      <td>2019-06-20</td>\n",
       "      <td>Louisiana</td>\n",
       "      <td>51.0</td>\n",
       "      <td>30.041238</td>\n",
       "      <td>-90.272826</td>\n",
       "      <td>121</td>\n",
       "    </tr>\n",
       "    <tr>\n",
       "      <th>3</th>\n",
       "      <td>2019-06-26</td>\n",
       "      <td>Louisiana</td>\n",
       "      <td>59.0</td>\n",
       "      <td>30.041238</td>\n",
       "      <td>-90.272826</td>\n",
       "      <td>121</td>\n",
       "    </tr>\n",
       "    <tr>\n",
       "      <th>4</th>\n",
       "      <td>2019-07-02</td>\n",
       "      <td>Louisiana</td>\n",
       "      <td>19.0</td>\n",
       "      <td>30.041238</td>\n",
       "      <td>-90.272826</td>\n",
       "      <td>121</td>\n",
       "    </tr>\n",
       "  </tbody>\n",
       "</table>\n",
       "</div>"
      ],
      "text/plain": [
       "         date      state   aqi        lat       long  pt_id\n",
       "0  2019-06-08  Louisiana  40.0  30.041238 -90.272826    121\n",
       "1  2019-06-14  Louisiana  35.0  30.041238 -90.272826    121\n",
       "2  2019-06-20  Louisiana  51.0  30.041238 -90.272826    121\n",
       "3  2019-06-26  Louisiana  59.0  30.041238 -90.272826    121\n",
       "4  2019-07-02  Louisiana  19.0  30.041238 -90.272826    121"
      ]
     },
     "execution_count": 4,
     "metadata": {},
     "output_type": "execute_result"
    }
   ],
   "source": [
    "df.head()"
   ]
  },
  {
   "cell_type": "code",
   "execution_count": 5,
   "metadata": {
    "ExecuteTime": {
     "end_time": "2020-06-08T19:53:52.330058Z",
     "start_time": "2020-06-08T19:53:52.324074Z"
    }
   },
   "outputs": [
    {
     "data": {
      "text/plain": [
       "(213149, 6)"
      ]
     },
     "execution_count": 5,
     "metadata": {},
     "output_type": "execute_result"
    }
   ],
   "source": [
    "df.shape"
   ]
  },
  {
   "cell_type": "markdown",
   "metadata": {},
   "source": [
    "### Data preparation for modeling"
   ]
  },
  {
   "cell_type": "code",
   "execution_count": 8,
   "metadata": {
    "ExecuteTime": {
     "end_time": "2020-06-08T19:55:40.263234Z",
     "start_time": "2020-06-08T19:55:38.671689Z"
    }
   },
   "outputs": [],
   "source": [
    "df['date'] = pd.to_datetime(df['date'])\n",
    "df['date'] = pd.DatetimeIndex(df['date']).month.map(str) + pd.DatetimeIndex(df['date']).day.map(str)\n",
    "df['date'] = pd.to_datetime(df['date'], format='%m%d').dt.strftime('%m%d')"
   ]
  },
  {
   "cell_type": "code",
   "execution_count": 10,
   "metadata": {
    "ExecuteTime": {
     "end_time": "2020-06-08T19:56:03.281758Z",
     "start_time": "2020-06-08T19:56:03.135445Z"
    }
   },
   "outputs": [],
   "source": [
    "df['date'] = df['date'].map(lambda x: int(x))"
   ]
  },
  {
   "cell_type": "code",
   "execution_count": 11,
   "metadata": {
    "ExecuteTime": {
     "end_time": "2020-06-08T19:56:03.313468Z",
     "start_time": "2020-06-08T19:56:03.285544Z"
    }
   },
   "outputs": [],
   "source": [
    "X = df.drop(columns=['aqi', 'pt_id'])\n",
    "y = df['aqi']"
   ]
  },
  {
   "cell_type": "code",
   "execution_count": 12,
   "metadata": {
    "ExecuteTime": {
     "end_time": "2020-06-08T19:56:03.331270Z",
     "start_time": "2020-06-08T19:56:03.317458Z"
    }
   },
   "outputs": [
    {
     "data": {
      "text/html": [
       "<div>\n",
       "<style scoped>\n",
       "    .dataframe tbody tr th:only-of-type {\n",
       "        vertical-align: middle;\n",
       "    }\n",
       "\n",
       "    .dataframe tbody tr th {\n",
       "        vertical-align: top;\n",
       "    }\n",
       "\n",
       "    .dataframe thead th {\n",
       "        text-align: right;\n",
       "    }\n",
       "</style>\n",
       "<table border=\"1\" class=\"dataframe\">\n",
       "  <thead>\n",
       "    <tr style=\"text-align: right;\">\n",
       "      <th></th>\n",
       "      <th>date</th>\n",
       "      <th>state</th>\n",
       "      <th>lat</th>\n",
       "      <th>long</th>\n",
       "    </tr>\n",
       "  </thead>\n",
       "  <tbody>\n",
       "    <tr>\n",
       "      <th>0</th>\n",
       "      <td>608</td>\n",
       "      <td>Louisiana</td>\n",
       "      <td>30.041238</td>\n",
       "      <td>-90.272826</td>\n",
       "    </tr>\n",
       "    <tr>\n",
       "      <th>1</th>\n",
       "      <td>614</td>\n",
       "      <td>Louisiana</td>\n",
       "      <td>30.041238</td>\n",
       "      <td>-90.272826</td>\n",
       "    </tr>\n",
       "    <tr>\n",
       "      <th>2</th>\n",
       "      <td>620</td>\n",
       "      <td>Louisiana</td>\n",
       "      <td>30.041238</td>\n",
       "      <td>-90.272826</td>\n",
       "    </tr>\n",
       "    <tr>\n",
       "      <th>3</th>\n",
       "      <td>626</td>\n",
       "      <td>Louisiana</td>\n",
       "      <td>30.041238</td>\n",
       "      <td>-90.272826</td>\n",
       "    </tr>\n",
       "    <tr>\n",
       "      <th>4</th>\n",
       "      <td>702</td>\n",
       "      <td>Louisiana</td>\n",
       "      <td>30.041238</td>\n",
       "      <td>-90.272826</td>\n",
       "    </tr>\n",
       "  </tbody>\n",
       "</table>\n",
       "</div>"
      ],
      "text/plain": [
       "   date      state        lat       long\n",
       "0   608  Louisiana  30.041238 -90.272826\n",
       "1   614  Louisiana  30.041238 -90.272826\n",
       "2   620  Louisiana  30.041238 -90.272826\n",
       "3   626  Louisiana  30.041238 -90.272826\n",
       "4   702  Louisiana  30.041238 -90.272826"
      ]
     },
     "execution_count": 12,
     "metadata": {},
     "output_type": "execute_result"
    }
   ],
   "source": [
    "X.head()"
   ]
  },
  {
   "cell_type": "code",
   "execution_count": 13,
   "metadata": {
    "ExecuteTime": {
     "end_time": "2020-06-08T19:56:03.338253Z",
     "start_time": "2020-06-08T19:56:03.334263Z"
    }
   },
   "outputs": [],
   "source": [
    "# Control column by column when onehotencoding\n",
    "# but when using 'passthrough', we can't get the feature names\n",
    "\n",
    "# ct = ColumnTransformer([('ohenc', OneHotEncoder(drop='first'), [1])], remainder='passthrough')\n",
    "# X = np.array(ct.fit_transform(X))"
   ]
  },
  {
   "cell_type": "code",
   "execution_count": 14,
   "metadata": {
    "ExecuteTime": {
     "end_time": "2020-06-08T19:56:03.538259Z",
     "start_time": "2020-06-08T19:56:03.340760Z"
    }
   },
   "outputs": [
    {
     "data": {
      "text/html": [
       "<div>\n",
       "<style scoped>\n",
       "    .dataframe tbody tr th:only-of-type {\n",
       "        vertical-align: middle;\n",
       "    }\n",
       "\n",
       "    .dataframe tbody tr th {\n",
       "        vertical-align: top;\n",
       "    }\n",
       "\n",
       "    .dataframe thead th {\n",
       "        text-align: right;\n",
       "    }\n",
       "</style>\n",
       "<table border=\"1\" class=\"dataframe\">\n",
       "  <thead>\n",
       "    <tr style=\"text-align: right;\">\n",
       "      <th></th>\n",
       "      <th>date</th>\n",
       "      <th>lat</th>\n",
       "      <th>long</th>\n",
       "      <th>state_Alaska</th>\n",
       "      <th>state_Arizona</th>\n",
       "      <th>state_Arkansas</th>\n",
       "      <th>state_California</th>\n",
       "      <th>state_Colorado</th>\n",
       "      <th>state_Connecticut</th>\n",
       "      <th>state_Delaware</th>\n",
       "      <th>...</th>\n",
       "      <th>state_South Dakota</th>\n",
       "      <th>state_Tennessee</th>\n",
       "      <th>state_Texas</th>\n",
       "      <th>state_Utah</th>\n",
       "      <th>state_Vermont</th>\n",
       "      <th>state_Virginia</th>\n",
       "      <th>state_Washington</th>\n",
       "      <th>state_West Virginia</th>\n",
       "      <th>state_Wisconsin</th>\n",
       "      <th>state_Wyoming</th>\n",
       "    </tr>\n",
       "  </thead>\n",
       "  <tbody>\n",
       "    <tr>\n",
       "      <th>0</th>\n",
       "      <td>608</td>\n",
       "      <td>30.041238</td>\n",
       "      <td>-90.272826</td>\n",
       "      <td>0</td>\n",
       "      <td>0</td>\n",
       "      <td>0</td>\n",
       "      <td>0</td>\n",
       "      <td>0</td>\n",
       "      <td>0</td>\n",
       "      <td>0</td>\n",
       "      <td>...</td>\n",
       "      <td>0</td>\n",
       "      <td>0</td>\n",
       "      <td>0</td>\n",
       "      <td>0</td>\n",
       "      <td>0</td>\n",
       "      <td>0</td>\n",
       "      <td>0</td>\n",
       "      <td>0</td>\n",
       "      <td>0</td>\n",
       "      <td>0</td>\n",
       "    </tr>\n",
       "    <tr>\n",
       "      <th>1</th>\n",
       "      <td>614</td>\n",
       "      <td>30.041238</td>\n",
       "      <td>-90.272826</td>\n",
       "      <td>0</td>\n",
       "      <td>0</td>\n",
       "      <td>0</td>\n",
       "      <td>0</td>\n",
       "      <td>0</td>\n",
       "      <td>0</td>\n",
       "      <td>0</td>\n",
       "      <td>...</td>\n",
       "      <td>0</td>\n",
       "      <td>0</td>\n",
       "      <td>0</td>\n",
       "      <td>0</td>\n",
       "      <td>0</td>\n",
       "      <td>0</td>\n",
       "      <td>0</td>\n",
       "      <td>0</td>\n",
       "      <td>0</td>\n",
       "      <td>0</td>\n",
       "    </tr>\n",
       "    <tr>\n",
       "      <th>2</th>\n",
       "      <td>620</td>\n",
       "      <td>30.041238</td>\n",
       "      <td>-90.272826</td>\n",
       "      <td>0</td>\n",
       "      <td>0</td>\n",
       "      <td>0</td>\n",
       "      <td>0</td>\n",
       "      <td>0</td>\n",
       "      <td>0</td>\n",
       "      <td>0</td>\n",
       "      <td>...</td>\n",
       "      <td>0</td>\n",
       "      <td>0</td>\n",
       "      <td>0</td>\n",
       "      <td>0</td>\n",
       "      <td>0</td>\n",
       "      <td>0</td>\n",
       "      <td>0</td>\n",
       "      <td>0</td>\n",
       "      <td>0</td>\n",
       "      <td>0</td>\n",
       "    </tr>\n",
       "    <tr>\n",
       "      <th>3</th>\n",
       "      <td>626</td>\n",
       "      <td>30.041238</td>\n",
       "      <td>-90.272826</td>\n",
       "      <td>0</td>\n",
       "      <td>0</td>\n",
       "      <td>0</td>\n",
       "      <td>0</td>\n",
       "      <td>0</td>\n",
       "      <td>0</td>\n",
       "      <td>0</td>\n",
       "      <td>...</td>\n",
       "      <td>0</td>\n",
       "      <td>0</td>\n",
       "      <td>0</td>\n",
       "      <td>0</td>\n",
       "      <td>0</td>\n",
       "      <td>0</td>\n",
       "      <td>0</td>\n",
       "      <td>0</td>\n",
       "      <td>0</td>\n",
       "      <td>0</td>\n",
       "    </tr>\n",
       "    <tr>\n",
       "      <th>4</th>\n",
       "      <td>702</td>\n",
       "      <td>30.041238</td>\n",
       "      <td>-90.272826</td>\n",
       "      <td>0</td>\n",
       "      <td>0</td>\n",
       "      <td>0</td>\n",
       "      <td>0</td>\n",
       "      <td>0</td>\n",
       "      <td>0</td>\n",
       "      <td>0</td>\n",
       "      <td>...</td>\n",
       "      <td>0</td>\n",
       "      <td>0</td>\n",
       "      <td>0</td>\n",
       "      <td>0</td>\n",
       "      <td>0</td>\n",
       "      <td>0</td>\n",
       "      <td>0</td>\n",
       "      <td>0</td>\n",
       "      <td>0</td>\n",
       "      <td>0</td>\n",
       "    </tr>\n",
       "  </tbody>\n",
       "</table>\n",
       "<p>5 rows × 53 columns</p>\n",
       "</div>"
      ],
      "text/plain": [
       "   date        lat       long  state_Alaska  state_Arizona  state_Arkansas  \\\n",
       "0   608  30.041238 -90.272826             0              0               0   \n",
       "1   614  30.041238 -90.272826             0              0               0   \n",
       "2   620  30.041238 -90.272826             0              0               0   \n",
       "3   626  30.041238 -90.272826             0              0               0   \n",
       "4   702  30.041238 -90.272826             0              0               0   \n",
       "\n",
       "   state_California  state_Colorado  state_Connecticut  state_Delaware  ...  \\\n",
       "0                 0               0                  0               0  ...   \n",
       "1                 0               0                  0               0  ...   \n",
       "2                 0               0                  0               0  ...   \n",
       "3                 0               0                  0               0  ...   \n",
       "4                 0               0                  0               0  ...   \n",
       "\n",
       "   state_South Dakota  state_Tennessee  state_Texas  state_Utah  \\\n",
       "0                   0                0            0           0   \n",
       "1                   0                0            0           0   \n",
       "2                   0                0            0           0   \n",
       "3                   0                0            0           0   \n",
       "4                   0                0            0           0   \n",
       "\n",
       "   state_Vermont  state_Virginia  state_Washington  state_West Virginia  \\\n",
       "0              0               0                 0                    0   \n",
       "1              0               0                 0                    0   \n",
       "2              0               0                 0                    0   \n",
       "3              0               0                 0                    0   \n",
       "4              0               0                 0                    0   \n",
       "\n",
       "   state_Wisconsin  state_Wyoming  \n",
       "0                0              0  \n",
       "1                0              0  \n",
       "2                0              0  \n",
       "3                0              0  \n",
       "4                0              0  \n",
       "\n",
       "[5 rows x 53 columns]"
      ]
     },
     "execution_count": 14,
     "metadata": {},
     "output_type": "execute_result"
    }
   ],
   "source": [
    "# We use get_dummies because it makes exogenous(X) readable\n",
    "X = pd.get_dummies(X, columns=['state'], drop_first=True)\n",
    "X.head()"
   ]
  },
  {
   "cell_type": "code",
   "execution_count": 15,
   "metadata": {
    "ExecuteTime": {
     "end_time": "2020-06-08T19:56:03.621433Z",
     "start_time": "2020-06-08T19:56:03.540648Z"
    }
   },
   "outputs": [],
   "source": [
    "X_train, X_test, y_train, y_test = train_test_split(X, y, test_size=0.33, random_state=42)"
   ]
  },
  {
   "cell_type": "code",
   "execution_count": 16,
   "metadata": {
    "ExecuteTime": {
     "end_time": "2020-06-08T19:56:03.675290Z",
     "start_time": "2020-06-08T19:56:03.623427Z"
    }
   },
   "outputs": [
    {
     "data": {
      "text/plain": [
       "((2065, 3), (2065,))"
      ]
     },
     "execution_count": 16,
     "metadata": {},
     "output_type": "execute_result"
    }
   ],
   "source": [
    "# Prepare data for Linear Regression\n",
    "X_sm = df[df['state'] == 'Alabama'].drop(columns=['aqi', 'pt_id', 'state'])\n",
    "y_sm = df[df['state'] == 'Alabama']['aqi']\n",
    "X_sm.shape, y_sm.shape"
   ]
  },
  {
   "cell_type": "code",
   "execution_count": 17,
   "metadata": {
    "ExecuteTime": {
     "end_time": "2020-06-08T19:56:03.690257Z",
     "start_time": "2020-06-08T19:56:03.679279Z"
    }
   },
   "outputs": [],
   "source": [
    "X_sm_train, X_sm_test, y_sm_train, y_sm_test = train_test_split(X_sm, y_sm, test_size=0.25, random_state=42)"
   ]
  },
  {
   "cell_type": "markdown",
   "metadata": {},
   "source": [
    "### Linear Regression"
   ]
  },
  {
   "cell_type": "code",
   "execution_count": 39,
   "metadata": {
    "ExecuteTime": {
     "end_time": "2020-06-08T20:01:01.085059Z",
     "start_time": "2020-06-08T20:01:01.079069Z"
    }
   },
   "outputs": [],
   "source": [
    "lr = LinearRegression(n_jobs=2)"
   ]
  },
  {
   "cell_type": "code",
   "execution_count": 40,
   "metadata": {
    "ExecuteTime": {
     "end_time": "2020-06-08T20:01:01.775427Z",
     "start_time": "2020-06-08T20:01:01.089569Z"
    }
   },
   "outputs": [
    {
     "data": {
      "text/plain": [
       "LinearRegression(copy_X=True, fit_intercept=True, n_jobs=2, normalize=False)"
      ]
     },
     "execution_count": 40,
     "metadata": {},
     "output_type": "execute_result"
    }
   ],
   "source": [
    "lr.fit(X_train, y_train)"
   ]
  },
  {
   "cell_type": "code",
   "execution_count": 41,
   "metadata": {
    "ExecuteTime": {
     "end_time": "2020-06-08T20:01:01.929053Z",
     "start_time": "2020-06-08T20:01:01.778419Z"
    }
   },
   "outputs": [
    {
     "data": {
      "text/plain": [
       "(0.12137668228485576, 0.1184871647140716)"
      ]
     },
     "execution_count": 41,
     "metadata": {},
     "output_type": "execute_result"
    }
   ],
   "source": [
    "lr.score(X_train, y_train), lr.score(X_test, y_test)"
   ]
  },
  {
   "cell_type": "code",
   "execution_count": 42,
   "metadata": {
    "ExecuteTime": {
     "end_time": "2020-06-08T20:01:01.940024Z",
     "start_time": "2020-06-08T20:01:01.932046Z"
    }
   },
   "outputs": [
    {
     "data": {
      "text/plain": [
       "array([ 2.93547336e-03, -3.48538171e-01,  3.11704142e-01,  2.34737212e+01,\n",
       "       -7.19921314e-01,  2.83277615e+00,  5.12221525e+00,  2.42902056e-01,\n",
       "       -8.22953018e+00, -6.87871666e+00, -3.43990448e+00, -8.73088865e+00,\n",
       "        8.85938653e-01, -6.42880211e+00, -5.61133940e+00,  3.86235883e+00,\n",
       "        1.97658848e+00,  1.11642893e+00, -9.54500167e-04,  1.11342816e+00,\n",
       "       -1.22492305e+00, -1.26336536e+01, -8.10534898e+00, -1.01725690e+01,\n",
       "        2.52474710e+00, -3.63114816e+00,  3.61104556e-01,  1.98978453e-01,\n",
       "        1.70810091e-01, -2.21908827e+00, -2.50066672e+00, -1.80438340e+01,\n",
       "       -4.85635212e+00, -3.76474851e+00, -8.27527352e+00, -5.15865426e+00,\n",
       "       -6.37804768e+00,  1.59832719e+00,  3.16032757e+00,  1.08651435e+01,\n",
       "       -4.11517261e-01, -1.50532717e+01, -6.06625670e+00, -8.77769073e+00,\n",
       "       -4.37938913e+00,  2.11007510e+00, -1.53251368e+00, -1.14140715e+01,\n",
       "       -7.00023110e+00,  7.68847454e+00, -2.57501522e+00, -7.79287499e-01,\n",
       "       -1.26742528e+01])"
      ]
     },
     "execution_count": 42,
     "metadata": {},
     "output_type": "execute_result"
    }
   ],
   "source": [
    "lr.coef_"
   ]
  },
  {
   "cell_type": "code",
   "execution_count": 43,
   "metadata": {
    "ExecuteTime": {
     "end_time": "2020-06-08T20:01:01.949001Z",
     "start_time": "2020-06-08T20:01:01.943016Z"
    }
   },
   "outputs": [
    {
     "data": {
      "text/plain": [
       "72.09596906722338"
      ]
     },
     "execution_count": 43,
     "metadata": {},
     "output_type": "execute_result"
    }
   ],
   "source": [
    "lr.intercept_"
   ]
  },
  {
   "cell_type": "code",
   "execution_count": 44,
   "metadata": {
    "ExecuteTime": {
     "end_time": "2020-06-08T20:01:01.999864Z",
     "start_time": "2020-06-08T20:01:01.950994Z"
    }
   },
   "outputs": [],
   "source": [
    "y_pred = lr.predict(X_test)"
   ]
  },
  {
   "cell_type": "code",
   "execution_count": 45,
   "metadata": {
    "ExecuteTime": {
     "end_time": "2020-06-08T20:01:02.012830Z",
     "start_time": "2020-06-08T20:01:02.003854Z"
    }
   },
   "outputs": [
    {
     "data": {
      "text/plain": [
       "236.38999429262887"
      ]
     },
     "execution_count": 45,
     "metadata": {},
     "output_type": "execute_result"
    }
   ],
   "source": [
    "mean_squared_error(y_test, y_pred)"
   ]
  },
  {
   "cell_type": "markdown",
   "metadata": {},
   "source": [
    "#### Assumptions of SLR(Simple Linear Regression) & MLR (Multiple Linear Regression)\n",
    "\n",
    "---\n",
    "\n",
    "1 ~ 4 for SLR, 1 ~ 5 for MLR\n",
    "\n",
    "1. **Linearity:** $Y$ must have an approximately linear relationship with each $X$ variable.\n",
    "2. **Independence of Errors:** Errors (residuals) $\\varepsilon_i$ and $\\varepsilon_j$ must be independent of one another for any $i \\ne j$.\n",
    "3. **Normality:** The errors (residuals) follow a Normal distribution with mean 0.\n",
    "4. **Equality of Variances**: The errors (residuals) should have a roughly consistent pattern, regardless of the value of the $X$ variables. (There should be no discernable relationship between the $X$ variable and the residuals.)\n",
    "5. **Independence of Predictors** (_almost always violated at least a little!_): The independent variables $X_i$ and $X_j$ must be independent of one another for any $i \\ne j$.\n",
    "\n",
    "The mnemonic LINEI is a useful way to remember these five assumptions."
   ]
  },
  {
   "cell_type": "code",
   "execution_count": null,
   "metadata": {},
   "outputs": [],
   "source": []
  },
  {
   "cell_type": "markdown",
   "metadata": {},
   "source": [
    "### Decision Tree Regressor"
   ]
  },
  {
   "cell_type": "code",
   "execution_count": 111,
   "metadata": {
    "ExecuteTime": {
     "end_time": "2020-06-08T17:23:43.125696Z",
     "start_time": "2020-06-08T17:23:43.040371Z"
    }
   },
   "outputs": [],
   "source": [
    "X_train, X_test, y_train, y_test = train_test_split(X, y, test_size=0.33, random_state=42)"
   ]
  },
  {
   "cell_type": "code",
   "execution_count": 106,
   "metadata": {
    "ExecuteTime": {
     "end_time": "2020-06-08T17:21:47.492947Z",
     "start_time": "2020-06-08T17:21:47.486976Z"
    }
   },
   "outputs": [],
   "source": [
    "dtr = DecisionTreeRegressor(max_depth=5,\n",
    "                            min_samples_split=7,\n",
    "                            min_samples_leaf=3,\n",
    "                            random_state=42)"
   ]
  },
  {
   "cell_type": "code",
   "execution_count": 112,
   "metadata": {
    "ExecuteTime": {
     "end_time": "2020-06-08T17:23:45.199563Z",
     "start_time": "2020-06-08T17:23:44.592934Z"
    }
   },
   "outputs": [
    {
     "data": {
      "text/plain": [
       "(0.1439059907931195, 0.14036969126290377)"
      ]
     },
     "execution_count": 112,
     "metadata": {},
     "output_type": "execute_result"
    }
   ],
   "source": [
    "dtr.fit(X_train, y_train)\n",
    "dtr.score(X_train, y_train), dtr.score(X_test, y_test)"
   ]
  },
  {
   "cell_type": "markdown",
   "metadata": {},
   "source": [
    "#### Grid Search with Decision tree"
   ]
  },
  {
   "cell_type": "code",
   "execution_count": 123,
   "metadata": {
    "ExecuteTime": {
     "end_time": "2020-06-08T18:12:15.448375Z",
     "start_time": "2020-06-08T18:12:15.441746Z"
    }
   },
   "outputs": [],
   "source": [
    "gs = GridSearchCV(estimator=DecisionTreeRegressor(random_state=42),\n",
    "                    param_grid={\n",
    "                        'max_depth': [20, 30],\n",
    "                        'min_samples_split': [2, 5, 10],\n",
    "                        'min_samples_leaf': [2, 5, 6, 7]\n",
    "                    },\n",
    "                    cv = 5)"
   ]
  },
  {
   "cell_type": "code",
   "execution_count": 124,
   "metadata": {
    "ExecuteTime": {
     "end_time": "2020-06-08T18:13:38.310698Z",
     "start_time": "2020-06-08T18:12:16.473503Z"
    },
    "scrolled": true
   },
   "outputs": [
    {
     "data": {
      "text/plain": [
       "GridSearchCV(cv=5, error_score='raise-deprecating',\n",
       "             estimator=DecisionTreeRegressor(criterion='mse', max_depth=None,\n",
       "                                             max_features=None,\n",
       "                                             max_leaf_nodes=None,\n",
       "                                             min_impurity_decrease=0.0,\n",
       "                                             min_impurity_split=None,\n",
       "                                             min_samples_leaf=1,\n",
       "                                             min_samples_split=2,\n",
       "                                             min_weight_fraction_leaf=0.0,\n",
       "                                             presort=False, random_state=42,\n",
       "                                             splitter='best'),\n",
       "             iid='warn', n_jobs=None,\n",
       "             param_grid={'max_depth': [20, 30],\n",
       "                         'min_samples_leaf': [2, 5, 6, 7],\n",
       "                         'min_samples_split': [2, 5, 10]},\n",
       "             pre_dispatch='2*n_jobs', refit=True, return_train_score=False,\n",
       "             scoring=None, verbose=0)"
      ]
     },
     "execution_count": 124,
     "metadata": {},
     "output_type": "execute_result"
    }
   ],
   "source": [
    "gs.fit(X_train, y_train)"
   ]
  },
  {
   "cell_type": "code",
   "execution_count": 126,
   "metadata": {
    "ExecuteTime": {
     "end_time": "2020-06-08T18:13:47.540288Z",
     "start_time": "2020-06-08T18:13:47.533534Z"
    }
   },
   "outputs": [
    {
     "data": {
      "text/plain": [
       "DecisionTreeRegressor(criterion='mse', max_depth=30, max_features=None,\n",
       "                      max_leaf_nodes=None, min_impurity_decrease=0.0,\n",
       "                      min_impurity_split=None, min_samples_leaf=5,\n",
       "                      min_samples_split=2, min_weight_fraction_leaf=0.0,\n",
       "                      presort=False, random_state=42, splitter='best')"
      ]
     },
     "execution_count": 126,
     "metadata": {},
     "output_type": "execute_result"
    }
   ],
   "source": [
    "gs.best_estimator_"
   ]
  },
  {
   "cell_type": "code",
   "execution_count": 128,
   "metadata": {
    "ExecuteTime": {
     "end_time": "2020-06-08T18:28:55.052051Z",
     "start_time": "2020-06-08T18:28:55.046066Z"
    }
   },
   "outputs": [
    {
     "data": {
      "text/plain": [
       "0.5960969323197362"
      ]
     },
     "execution_count": 128,
     "metadata": {},
     "output_type": "execute_result"
    }
   ],
   "source": [
    "gs.best_score_"
   ]
  },
  {
   "cell_type": "code",
   "execution_count": 127,
   "metadata": {
    "ExecuteTime": {
     "end_time": "2020-06-08T18:28:35.619032Z",
     "start_time": "2020-06-08T18:28:34.449437Z"
    }
   },
   "outputs": [
    {
     "data": {
      "text/plain": [
       "(0.8101973678310828, 0.6316494050747716)"
      ]
     },
     "execution_count": 127,
     "metadata": {},
     "output_type": "execute_result"
    }
   ],
   "source": [
    "gs_best = gs.best_estimator_\n",
    "gs_best.fit(X_train, y_train)\n",
    "gs_best.score(X_train, y_train), gs_best.score(X_test, y_test)"
   ]
  },
  {
   "cell_type": "code",
   "execution_count": 134,
   "metadata": {
    "ExecuteTime": {
     "end_time": "2020-06-08T19:00:38.440350Z",
     "start_time": "2020-06-08T19:00:38.362483Z"
    }
   },
   "outputs": [],
   "source": [
    "preds = gs_best.predict(X_test)"
   ]
  },
  {
   "cell_type": "markdown",
   "metadata": {},
   "source": [
    "### Random Forest Regressor"
   ]
  },
  {
   "cell_type": "code",
   "execution_count": 132,
   "metadata": {
    "ExecuteTime": {
     "end_time": "2020-06-08T18:54:51.886046Z",
     "start_time": "2020-06-08T18:54:33.075200Z"
    }
   },
   "outputs": [
    {
     "data": {
      "text/plain": [
       "RandomForestRegressor(bootstrap=True, criterion='mse', max_depth=20,\n",
       "                      max_features='auto', max_leaf_nodes=None,\n",
       "                      min_impurity_decrease=0.0, min_impurity_split=None,\n",
       "                      min_samples_leaf=1, min_samples_split=2,\n",
       "                      min_weight_fraction_leaf=0.0, n_estimators=100, n_jobs=4,\n",
       "                      oob_score=False, random_state=42, verbose=0,\n",
       "                      warm_start=False)"
      ]
     },
     "execution_count": 132,
     "metadata": {},
     "output_type": "execute_result"
    }
   ],
   "source": [
    "rfr = RandomForestRegressor(n_estimators=100, max_depth=20, n_jobs=4, random_state=42)\n",
    "rfr.fit(X_train, y_train)"
   ]
  },
  {
   "cell_type": "code",
   "execution_count": 133,
   "metadata": {
    "ExecuteTime": {
     "end_time": "2020-06-08T18:55:31.717076Z",
     "start_time": "2020-06-08T18:55:29.057945Z"
    }
   },
   "outputs": [
    {
     "data": {
      "text/plain": [
       "(0.8558787633479172, 0.699795503891673)"
      ]
     },
     "execution_count": 133,
     "metadata": {},
     "output_type": "execute_result"
    }
   ],
   "source": [
    "rfr.score(X_train, y_train), rfr.score(X_test, y_test)"
   ]
  },
  {
   "cell_type": "markdown",
   "metadata": {},
   "source": [
    "#### Grid search"
   ]
  },
  {
   "cell_type": "code",
   "execution_count": 136,
   "metadata": {
    "ExecuteTime": {
     "end_time": "2020-06-08T19:14:07.464384Z",
     "start_time": "2020-06-08T19:02:23.696616Z"
    }
   },
   "outputs": [
    {
     "data": {
      "text/plain": [
       "GridSearchCV(cv=5, error_score='raise-deprecating',\n",
       "             estimator=RandomForestRegressor(bootstrap=True, criterion='mse',\n",
       "                                             max_depth=None,\n",
       "                                             max_features='auto',\n",
       "                                             max_leaf_nodes=None,\n",
       "                                             min_impurity_decrease=0.0,\n",
       "                                             min_impurity_split=None,\n",
       "                                             min_samples_leaf=1,\n",
       "                                             min_samples_split=2,\n",
       "                                             min_weight_fraction_leaf=0.0,\n",
       "                                             n_estimators='warn', n_jobs=4,\n",
       "                                             oob_score=False, random_state=42,\n",
       "                                             verbose=0, warm_start=False),\n",
       "             iid='warn', n_jobs=None,\n",
       "             param_grid={'max_depth': [20, 30], 'n_estimators': [100, 200]},\n",
       "             pre_dispatch='2*n_jobs', refit=True, return_train_score=False,\n",
       "             scoring=None, verbose=0)"
      ]
     },
     "execution_count": 136,
     "metadata": {},
     "output_type": "execute_result"
    }
   ],
   "source": [
    "gs_rfr = GridSearchCV(estimator=RandomForestRegressor(random_state=42, n_jobs=4),\n",
    "                    param_grid={\n",
    "                        'n_estimators': [100, 200],\n",
    "                        'max_depth': [20, 30]\n",
    "                    },\n",
    "                    cv = 5)\n",
    "gs_rfr.fit(X_train, y_train)"
   ]
  },
  {
   "cell_type": "code",
   "execution_count": 137,
   "metadata": {
    "ExecuteTime": {
     "end_time": "2020-06-08T19:14:07.481007Z",
     "start_time": "2020-06-08T19:14:07.470321Z"
    }
   },
   "outputs": [
    {
     "data": {
      "text/plain": [
       "{'max_depth': 30, 'n_estimators': 200}"
      ]
     },
     "execution_count": 137,
     "metadata": {},
     "output_type": "execute_result"
    }
   ],
   "source": [
    "gs_rfr.best_params_"
   ]
  },
  {
   "cell_type": "code",
   "execution_count": 138,
   "metadata": {
    "ExecuteTime": {
     "end_time": "2020-06-08T19:14:07.502716Z",
     "start_time": "2020-06-08T19:14:07.490761Z"
    }
   },
   "outputs": [
    {
     "data": {
      "text/plain": [
       "0.705215057584567"
      ]
     },
     "execution_count": 138,
     "metadata": {},
     "output_type": "execute_result"
    }
   ],
   "source": [
    "gs_rfr.best_score_"
   ]
  },
  {
   "cell_type": "code",
   "execution_count": 139,
   "metadata": {
    "ExecuteTime": {
     "end_time": "2020-06-08T19:16:44.189577Z",
     "start_time": "2020-06-08T19:15:34.678190Z"
    }
   },
   "outputs": [
    {
     "data": {
      "text/plain": [
       "(0.9450002592474513, 0.7274030239933473)"
      ]
     },
     "execution_count": 139,
     "metadata": {},
     "output_type": "execute_result"
    }
   ],
   "source": [
    "gs_rfr_best = gs_rfr.best_estimator_\n",
    "gs_rfr_best.fit(X_train, y_train)\n",
    "gs_rfr_best.score(X_train, y_train), gs_rfr_best.score(X_test, y_test)"
   ]
  },
  {
   "cell_type": "code",
   "execution_count": null,
   "metadata": {},
   "outputs": [],
   "source": []
  },
  {
   "cell_type": "markdown",
   "metadata": {},
   "source": [
    "### SVR"
   ]
  },
  {
   "cell_type": "code",
   "execution_count": 38,
   "metadata": {
    "ExecuteTime": {
     "end_time": "2020-06-08T19:59:21.485274Z",
     "start_time": "2020-06-08T19:59:21.096445Z"
    }
   },
   "outputs": [
    {
     "name": "stderr",
     "output_type": "stream",
     "text": [
      "C:\\Users\\jjing\\Anaconda3\\lib\\site-packages\\sklearn\\svm\\base.py:193: FutureWarning: The default value of gamma will change from 'auto' to 'scale' in version 0.22 to account better for unscaled features. Set gamma explicitly to 'auto' or 'scale' to avoid this warning.\n",
      "  \"avoid this warning.\", FutureWarning)\n"
     ]
    },
    {
     "data": {
      "text/plain": [
       "(0.8752388813368439, 0.6656864548413307)"
      ]
     },
     "execution_count": 38,
     "metadata": {},
     "output_type": "execute_result"
    }
   ],
   "source": [
    "svr = SVR(C=22, epsilon=1) # Larger C leads to the overfitting, smaller C to the underfitting\n",
    "svr.fit(X_sm_train, y_sm_train)\n",
    "svr.score(X_sm_train, y_sm_train), svr.score(X_sm_test, y_sm_test)"
   ]
  },
  {
   "cell_type": "code",
   "execution_count": null,
   "metadata": {},
   "outputs": [],
   "source": []
  },
  {
   "cell_type": "code",
   "execution_count": null,
   "metadata": {},
   "outputs": [],
   "source": []
  },
  {
   "cell_type": "code",
   "execution_count": null,
   "metadata": {},
   "outputs": [],
   "source": []
  },
  {
   "cell_type": "code",
   "execution_count": null,
   "metadata": {},
   "outputs": [],
   "source": []
  },
  {
   "cell_type": "code",
   "execution_count": null,
   "metadata": {},
   "outputs": [],
   "source": []
  },
  {
   "cell_type": "code",
   "execution_count": null,
   "metadata": {},
   "outputs": [],
   "source": []
  },
  {
   "cell_type": "code",
   "execution_count": null,
   "metadata": {},
   "outputs": [],
   "source": []
  },
  {
   "cell_type": "code",
   "execution_count": null,
   "metadata": {},
   "outputs": [],
   "source": []
  },
  {
   "cell_type": "code",
   "execution_count": null,
   "metadata": {},
   "outputs": [],
   "source": []
  },
  {
   "cell_type": "code",
   "execution_count": null,
   "metadata": {},
   "outputs": [],
   "source": []
  },
  {
   "cell_type": "code",
   "execution_count": null,
   "metadata": {},
   "outputs": [],
   "source": []
  },
  {
   "cell_type": "code",
   "execution_count": null,
   "metadata": {},
   "outputs": [],
   "source": []
  },
  {
   "cell_type": "code",
   "execution_count": null,
   "metadata": {},
   "outputs": [],
   "source": []
  },
  {
   "cell_type": "code",
   "execution_count": null,
   "metadata": {},
   "outputs": [],
   "source": []
  },
  {
   "cell_type": "code",
   "execution_count": null,
   "metadata": {},
   "outputs": [],
   "source": []
  },
  {
   "cell_type": "code",
   "execution_count": null,
   "metadata": {},
   "outputs": [],
   "source": []
  },
  {
   "cell_type": "code",
   "execution_count": null,
   "metadata": {},
   "outputs": [],
   "source": []
  },
  {
   "cell_type": "code",
   "execution_count": null,
   "metadata": {},
   "outputs": [],
   "source": []
  },
  {
   "cell_type": "code",
   "execution_count": null,
   "metadata": {},
   "outputs": [],
   "source": []
  },
  {
   "cell_type": "code",
   "execution_count": null,
   "metadata": {},
   "outputs": [],
   "source": []
  },
  {
   "cell_type": "code",
   "execution_count": null,
   "metadata": {},
   "outputs": [],
   "source": []
  },
  {
   "cell_type": "code",
   "execution_count": null,
   "metadata": {},
   "outputs": [],
   "source": []
  },
  {
   "cell_type": "code",
   "execution_count": null,
   "metadata": {},
   "outputs": [],
   "source": []
  },
  {
   "cell_type": "code",
   "execution_count": null,
   "metadata": {},
   "outputs": [],
   "source": []
  }
 ],
 "metadata": {
  "kernelspec": {
   "display_name": "Python 3",
   "language": "python",
   "name": "python3"
  },
  "language_info": {
   "codemirror_mode": {
    "name": "ipython",
    "version": 3
   },
   "file_extension": ".py",
   "mimetype": "text/x-python",
   "name": "python",
   "nbconvert_exporter": "python",
   "pygments_lexer": "ipython3",
   "version": "3.7.4"
  }
 },
 "nbformat": 4,
 "nbformat_minor": 2
}
